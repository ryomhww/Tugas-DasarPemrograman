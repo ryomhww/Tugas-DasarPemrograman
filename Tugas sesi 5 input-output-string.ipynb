{
 "cells": [
  {
   "cell_type": "code",
   "execution_count": 26,
   "id": "1a1e4c5f",
   "metadata": {},
   "outputs": [
    {
     "name": "stdout",
     "output_type": "stream",
     "text": [
      "nama kamu : Muhammad Hendryo Wibowo\n",
      "umur kamu : 19\n",
      "nim kamu : 20220040206\n",
      "tempat kamu berkuliah : UNIVERSITAS NUSA PUTRA\n",
      "jurusan yang kamu masuki : TEKNIK INFORMATIKA\n",
      "kelas kamu : F\n",
      "tujuan kamu masuk jurusan {jurusan} ? untuk memperdalam skill dalam bidang teknik informatika\n",
      "___________________________________________________________\n",
      "Nama saya Muhammad Hendryo Wibowo. \n",
      "Umur 19 Tahun. \n",
      "Saya sedang berkuliah di UNIVERSITAS NUSA PUTRA, jurusan TEKNIK INFORMATIKA. \n",
      "Saya berada di kelas F dengan NIM 20220040206. \n",
      "Tujuan saya masuk jurusan TEKNIK INFORMATIKA adalah untuk memperdalam skill dalam bidang teknik informatika.\n",
      "___________________________________________________________\n"
     ]
    }
   ],
   "source": [
    "#1.Buatlah biodata sederhana dengan menggunakan fungsi input(), dan output variabel dengan fungsi format().\n",
    "\n",
    "nama = (input(\"nama kamu : \"))\n",
    "umur = (input(\"umur kamu : \"))\n",
    "nim = (input(\"nim kamu : \"))\n",
    "kuliah = (input(\"tempat kamu berkuliah : \"))\n",
    "jurusan = (input(\"jurusan yang kamu masuki : \"))\n",
    "kelas = (input(\"kelas kamu : \"))\n",
    "tujuan = (input(\"tujuan kamu masuk jurusan {jurusan} ? \"))\n",
    "print (\"___________________________________________________________\")\n",
    "\n",
    "print('''Nama saya {}. \n",
    "Umur {} Tahun. \n",
    "Saya sedang berkuliah di {}, jurusan {}. \n",
    "Saya berada di kelas {} dengan NIM {}. \n",
    "Tujuan saya masuk jurusan {} adalah {}.'''.format(nama,umur,kuliah,jurusan,kelas,nim,jurusan,tujuan))\n",
    "print (\"___________________________________________________________\")"
   ]
  },
  {
   "cell_type": "code",
   "execution_count": 25,
   "id": "e46b5170",
   "metadata": {},
   "outputs": [
    {
     "name": "stdout",
     "output_type": "stream",
     "text": [
      "a. putra nusa\n",
      "b. NIVERSITAS NSA PTRA SKABMI\n",
      "c. SUKABUMI PUTRA NUSA UNIVERSITAS\n",
      "d. TAS SAPU BUMI\n"
     ]
    }
   ],
   "source": [
    "#2.Jika terdapat kalimat UNIVERSITAS NUSA PUTRA SUKABUMI ,buatlah kode program untuk menampilkan output:\n",
    "#a.putra nusa\n",
    "#b.NIVERSITAS NSA PTRA SKABMI\n",
    "#c.SUKABUMI PUTRA NUSA UNIVERSITAS\n",
    "#d.UNPS\n",
    "#e.TAS SAPU BUMI\n",
    "\n",
    "kalimat = \"UNIVERSITAS NUSA PUTRA SUKABUMI\"\n",
    "kalimat_split = kalimat.split()\n",
    "\n",
    "#a\n",
    "print(\"a.\",kalimat[17:22].lower(),kalimat[12:16].lower())\n",
    "\n",
    "#b\n",
    "print (\"b.\",kalimat.replace(\"U\",\"\"))\n",
    "\n",
    "#c\n",
    "print('c.',kalimat_split[3],kalimat_split[2],kalimat_split[1],kalimat_split[0])\n",
    "\n",
    "#d\n",
    "print('d.',kalimat[8:11],kalimat[14:16]+kalimat[17:19],kalimat[-4:])"
   ]
  }
 ],
 "metadata": {
  "kernelspec": {
   "display_name": "Python 3 (ipykernel)",
   "language": "python",
   "name": "python3"
  },
  "language_info": {
   "codemirror_mode": {
    "name": "ipython",
    "version": 3
   },
   "file_extension": ".py",
   "mimetype": "text/x-python",
   "name": "python",
   "nbconvert_exporter": "python",
   "pygments_lexer": "ipython3",
   "version": "3.9.12"
  }
 },
 "nbformat": 4,
 "nbformat_minor": 5
}
