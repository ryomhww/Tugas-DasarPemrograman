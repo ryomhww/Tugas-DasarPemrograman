{
 "cells": [
  {
   "cell_type": "code",
   "execution_count": 1,
   "id": "df0e4555",
   "metadata": {},
   "outputs": [
    {
     "name": "stdout",
     "output_type": "stream",
     "text": [
      "Masukan Kalimat :jauh\n",
      "Kalimat sebelum di balik yaitu : jauh\n",
      "Kalimat setelah di balik adalah : huaj\n"
     ]
    }
   ],
   "source": [
    "#Program untuk membalik sebuah kalimat\n",
    "\n",
    "kalimat = str(input(\"Masukan Kalimat :\"))\n",
    "balik = \"\"\n",
    "\n",
    "for i in range(len(kalimat)-1,-1,-1):\n",
    "    balik +=kalimat[i]\n",
    "print(\"Kalimat sebelum di balik yaitu :\",kalimat)\n",
    "print(\"Kalimat setelah di balik adalah :\",balik)\n"
   ]
  },
  {
   "cell_type": "code",
   "execution_count": 2,
   "id": "3d4e3eee",
   "metadata": {},
   "outputs": [
    {
     "name": "stdout",
     "output_type": "stream",
     "text": [
      "Kalimatnya yaitu : Universitas Nusa Putera\n",
      "Jumlah Huruf A = 3\n",
      "Jumlah Huruf A = 2\n",
      "Jumlah Huruf A = 3\n",
      "Jumlah Huruf A = 2\n",
      "Jumlah Huruf A = 0\n",
      "Total jumlah huruf vokal = 10\n"
     ]
    }
   ],
   "source": [
    "#Program menghitung jumlah masing-masing huruf vokal\n",
    "\n",
    "teks = \"Universitas Nusa Putera\"\n",
    "huruf_vokal = {'a':0, 'i':0, 'u':0, 'e':0, 'o':0}\n",
    "total = 0\n",
    "for vokal in teks.lower():\n",
    "    if vokal in ['a','i','u','e','o']:\n",
    "        huruf_vokal[vokal] +=1\n",
    "        total +=1\n",
    "print(f\"Kalimatnya yaitu : {teks}\")\n",
    "print(f\"Jumlah Huruf A = {huruf_vokal['a']}\")\n",
    "print(f\"Jumlah Huruf A = {huruf_vokal['i']}\")\n",
    "print(f\"Jumlah Huruf A = {huruf_vokal['u']}\")\n",
    "print(f\"Jumlah Huruf A = {huruf_vokal['e']}\")\n",
    "print(f\"Jumlah Huruf A = {huruf_vokal['o']}\")\n",
    "print(f\"Total jumlah huruf vokal = {total}\")"
   ]
  },
  {
   "cell_type": "code",
   "execution_count": null,
   "id": "5edee903",
   "metadata": {},
   "outputs": [],
   "source": []
  }
 ],
 "metadata": {
  "kernelspec": {
   "display_name": "Python 3 (ipykernel)",
   "language": "python",
   "name": "python3"
  },
  "language_info": {
   "codemirror_mode": {
    "name": "ipython",
    "version": 3
   },
   "file_extension": ".py",
   "mimetype": "text/x-python",
   "name": "python",
   "nbconvert_exporter": "python",
   "pygments_lexer": "ipython3",
   "version": "3.9.12"
  }
 },
 "nbformat": 4,
 "nbformat_minor": 5
}
